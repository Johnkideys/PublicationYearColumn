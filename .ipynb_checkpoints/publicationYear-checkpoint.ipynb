{
 "cells": [
  {
   "cell_type": "code",
   "execution_count": 1,
   "metadata": {},
   "outputs": [],
   "source": [
    "import pandas as pd\n",
    "import numpy as np\n",
    "import re"
   ]
  },
  {
   "cell_type": "code",
   "execution_count": 2,
   "metadata": {},
   "outputs": [],
   "source": [
    "df1 = pd.read_excel(\"PublicationsExcel2021.xlsx\", header = 1)\n",
    "df1.drop(df1.columns[0], axis=1, inplace=True)\n"
   ]
  },
  {
   "cell_type": "code",
   "execution_count": 4,
   "metadata": {},
   "outputs": [],
   "source": [
    "listcolumn = []\n",
    "for x in range(len(df1)):\n",
    "    sentence = df1[\"Publication\"][x]\n",
    "    #list_words = sentence.replace(\".\",\" \").strip().split() #dont need this line anymore due to using import re\n",
    "    list_words = re.split(r'[;,.\\s]\\s*', sentence)\n",
    "    list_ints = [i for i in list_words if i.isdigit()]\n",
    "    list_4digits = [y for y in list_ints if len(y)==4] \n",
    "    listcolumn.append(list_4digits[0])\n",
    "df1['Year'] = listcolumn"
   ]
  },
  {
   "cell_type": "code",
   "execution_count": 5,
   "metadata": {},
   "outputs": [
    {
     "name": "stdout",
     "output_type": "stream",
     "text": [
      "all good\n"
     ]
    }
   ],
   "source": [
    "#to check if we have a 4 digit number in every single row of our year column\n",
    "check = 1\n",
    "for y in range(len(df1)):\n",
    "    if len(str(df1.iloc[y]['Year'])) != 4 :\n",
    "        check=0\n",
    "        print('at index ', y,'we only have a 2 digit number which is: ', df1.iloc[y]['Year'])\n",
    "if check == 1:\n",
    "    print('all good')\n"
   ]
  },
  {
   "cell_type": "code",
   "execution_count": 6,
   "metadata": {},
   "outputs": [
    {
     "data": {
      "text/html": [
       "<div>\n",
       "<style scoped>\n",
       "    .dataframe tbody tr th:only-of-type {\n",
       "        vertical-align: middle;\n",
       "    }\n",
       "\n",
       "    .dataframe tbody tr th {\n",
       "        vertical-align: top;\n",
       "    }\n",
       "\n",
       "    .dataframe thead th {\n",
       "        text-align: right;\n",
       "    }\n",
       "</style>\n",
       "<table border=\"1\" class=\"dataframe\">\n",
       "  <thead>\n",
       "    <tr style=\"text-align: right;\">\n",
       "      <th></th>\n",
       "      <th>Publication</th>\n",
       "      <th>Year</th>\n",
       "      <th>SCI paper</th>\n",
       "      <th>Non-SCI paper</th>\n",
       "      <th>Peer-reviewed Book Chapter</th>\n",
       "      <th>Oteher Book Chapter</th>\n",
       "    </tr>\n",
       "  </thead>\n",
       "  <tbody>\n",
       "    <tr>\n",
       "      <th>0</th>\n",
       "      <td>Kıdeyş A. E., M. Ünsal &amp; F. Bingel 1989. Seaso...</td>\n",
       "      <td>1989</td>\n",
       "      <td>Y</td>\n",
       "      <td>NaN</td>\n",
       "      <td>NaN</td>\n",
       "      <td>NaN</td>\n",
       "    </tr>\n",
       "    <tr>\n",
       "      <th>1</th>\n",
       "      <td>Kideys A. E. &amp; R. G. Hartnoll 1991. Energetics...</td>\n",
       "      <td>1991</td>\n",
       "      <td>Y</td>\n",
       "      <td>NaN</td>\n",
       "      <td>NaN</td>\n",
       "      <td>NaN</td>\n",
       "    </tr>\n",
       "    <tr>\n",
       "      <th>2</th>\n",
       "      <td>Kideys A. E., R. G. Hartnoll &amp; R. D. M. Nash 1...</td>\n",
       "      <td>1993</td>\n",
       "      <td>Y</td>\n",
       "      <td>NaN</td>\n",
       "      <td>NaN</td>\n",
       "      <td>NaN</td>\n",
       "    </tr>\n",
       "    <tr>\n",
       "      <th>3</th>\n",
       "      <td>Kideys A. E. 1993. Estimation of the density o...</td>\n",
       "      <td>1993</td>\n",
       "      <td>Y</td>\n",
       "      <td>NaN</td>\n",
       "      <td>NaN</td>\n",
       "      <td>NaN</td>\n",
       "    </tr>\n",
       "    <tr>\n",
       "      <th>4</th>\n",
       "      <td>Kideys A. E. &amp; U. Niermann 1993. Intrusion of ...</td>\n",
       "      <td>1993</td>\n",
       "      <td>Y</td>\n",
       "      <td>NaN</td>\n",
       "      <td>NaN</td>\n",
       "      <td>NaN</td>\n",
       "    </tr>\n",
       "    <tr>\n",
       "      <th>...</th>\n",
       "      <td>...</td>\n",
       "      <td>...</td>\n",
       "      <td>...</td>\n",
       "      <td>...</td>\n",
       "      <td>...</td>\n",
       "      <td>...</td>\n",
       "    </tr>\n",
       "    <tr>\n",
       "      <th>145</th>\n",
       "      <td>Lakkis S., A. E. Kideys, A. Shmeleva, A. Koval...</td>\n",
       "      <td>2003</td>\n",
       "      <td>NaN</td>\n",
       "      <td>NaN</td>\n",
       "      <td>NaN</td>\n",
       "      <td>Y</td>\n",
       "    </tr>\n",
       "    <tr>\n",
       "      <th>146</th>\n",
       "      <td>Bagheri S. &amp; A. E. Kideys 2003. Distribution a...</td>\n",
       "      <td>2003</td>\n",
       "      <td>NaN</td>\n",
       "      <td>NaN</td>\n",
       "      <td>NaN</td>\n",
       "      <td>Y</td>\n",
       "    </tr>\n",
       "    <tr>\n",
       "      <th>147</th>\n",
       "      <td>Inanmaz Ö. I., M. Bekbolet &amp; A. E. Kideys 2003...</td>\n",
       "      <td>2003</td>\n",
       "      <td>NaN</td>\n",
       "      <td>NaN</td>\n",
       "      <td>NaN</td>\n",
       "      <td>Y</td>\n",
       "    </tr>\n",
       "    <tr>\n",
       "      <th>148</th>\n",
       "      <td>Kideys A.E., Ayşe Gazihan Akoğlu, Sıla Sarıcal...</td>\n",
       "      <td>2012</td>\n",
       "      <td>NaN</td>\n",
       "      <td>NaN</td>\n",
       "      <td>NaN</td>\n",
       "      <td>Y</td>\n",
       "    </tr>\n",
       "    <tr>\n",
       "      <th>149</th>\n",
       "      <td>Kideys A.E. 2013. Marmara denizinin mevcut kir...</td>\n",
       "      <td>2013</td>\n",
       "      <td>NaN</td>\n",
       "      <td>NaN</td>\n",
       "      <td>NaN</td>\n",
       "      <td>Y</td>\n",
       "    </tr>\n",
       "  </tbody>\n",
       "</table>\n",
       "<p>150 rows × 6 columns</p>\n",
       "</div>"
      ],
      "text/plain": [
       "                                           Publication  Year SCI paper  \\\n",
       "0    Kıdeyş A. E., M. Ünsal & F. Bingel 1989. Seaso...  1989         Y   \n",
       "1    Kideys A. E. & R. G. Hartnoll 1991. Energetics...  1991         Y   \n",
       "2    Kideys A. E., R. G. Hartnoll & R. D. M. Nash 1...  1993         Y   \n",
       "3    Kideys A. E. 1993. Estimation of the density o...  1993         Y   \n",
       "4    Kideys A. E. & U. Niermann 1993. Intrusion of ...  1993         Y   \n",
       "..                                                 ...   ...       ...   \n",
       "145  Lakkis S., A. E. Kideys, A. Shmeleva, A. Koval...  2003       NaN   \n",
       "146  Bagheri S. & A. E. Kideys 2003. Distribution a...  2003       NaN   \n",
       "147  Inanmaz Ö. I., M. Bekbolet & A. E. Kideys 2003...  2003       NaN   \n",
       "148  Kideys A.E., Ayşe Gazihan Akoğlu, Sıla Sarıcal...  2012       NaN   \n",
       "149  Kideys A.E. 2013. Marmara denizinin mevcut kir...  2013       NaN   \n",
       "\n",
       "    Non-SCI paper Peer-reviewed Book Chapter Oteher Book Chapter  \n",
       "0             NaN                        NaN                 NaN  \n",
       "1             NaN                        NaN                 NaN  \n",
       "2             NaN                        NaN                 NaN  \n",
       "3             NaN                        NaN                 NaN  \n",
       "4             NaN                        NaN                 NaN  \n",
       "..            ...                        ...                 ...  \n",
       "145           NaN                        NaN                   Y  \n",
       "146           NaN                        NaN                   Y  \n",
       "147           NaN                        NaN                   Y  \n",
       "148           NaN                        NaN                   Y  \n",
       "149           NaN                        NaN                   Y  \n",
       "\n",
       "[150 rows x 6 columns]"
      ]
     },
     "execution_count": 6,
     "metadata": {},
     "output_type": "execute_result"
    }
   ],
   "source": [
    "df1"
   ]
  },
  {
   "cell_type": "code",
   "execution_count": 7,
   "metadata": {},
   "outputs": [
    {
     "name": "stdout",
     "output_type": "stream",
     "text": [
      "DataFrame is written successfully to Excel File.\n"
     ]
    }
   ],
   "source": [
    "# create excel writer object\n",
    "writer = pd.ExcelWriter('Updated_PublicationsExcel2021.xlsx')\n",
    "# write dataframe to excel\n",
    "df1.to_excel(writer)\n",
    "# save the excel\n",
    "writer.save()\n",
    "print('DataFrame is written successfully to Excel File.')"
   ]
  },
  {
   "cell_type": "code",
   "execution_count": null,
   "metadata": {},
   "outputs": [],
   "source": []
  }
 ],
 "metadata": {
  "kernelspec": {
   "display_name": "Python 3",
   "language": "python",
   "name": "python3"
  },
  "language_info": {
   "codemirror_mode": {
    "name": "ipython",
    "version": 3
   },
   "file_extension": ".py",
   "mimetype": "text/x-python",
   "name": "python",
   "nbconvert_exporter": "python",
   "pygments_lexer": "ipython3",
   "version": "3.8.5"
  }
 },
 "nbformat": 4,
 "nbformat_minor": 4
}
