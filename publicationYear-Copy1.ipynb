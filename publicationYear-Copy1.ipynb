{
 "cells": [
  {
   "cell_type": "code",
   "execution_count": 1,
   "metadata": {},
   "outputs": [],
   "source": [
    "import pandas as pd\n",
    "import numpy as np\n",
    "import re"
   ]
  },
  {
   "cell_type": "code",
   "execution_count": 2,
   "metadata": {
    "collapsed": true
   },
   "outputs": [
    {
     "name": "stdout",
     "output_type": "stream",
     "text": [
      "Which sheetname: Reports\n"
     ]
    },
    {
     "data": {
      "text/html": [
       "<div>\n",
       "<style scoped>\n",
       "    .dataframe tbody tr th:only-of-type {\n",
       "        vertical-align: middle;\n",
       "    }\n",
       "\n",
       "    .dataframe tbody tr th {\n",
       "        vertical-align: top;\n",
       "    }\n",
       "\n",
       "    .dataframe thead th {\n",
       "        text-align: right;\n",
       "    }\n",
       "</style>\n",
       "<table border=\"1\" class=\"dataframe\">\n",
       "  <thead>\n",
       "    <tr style=\"text-align: right;\">\n",
       "      <th></th>\n",
       "      <th>Report</th>\n",
       "    </tr>\n",
       "  </thead>\n",
       "  <tbody>\n",
       "    <tr>\n",
       "      <th>0</th>\n",
       "      <td>Niermann U. &amp; A. E. Kıdeyş (editörler) 1995. A...</td>\n",
       "    </tr>\n",
       "    <tr>\n",
       "      <th>1</th>\n",
       "      <td>Bingel F., A. C. Gücü, A. Stepnowski, U. Nierm...</td>\n",
       "    </tr>\n",
       "    <tr>\n",
       "      <th>2</th>\n",
       "      <td>Ünlüata Ü., Ş. Beşiktepe, M. A. Latif, S. Tuğr...</td>\n",
       "    </tr>\n",
       "    <tr>\n",
       "      <th>3</th>\n",
       "      <td>Bingel F., A. C. Gücü, E. Eker, A. E. Kıdeyş, ...</td>\n",
       "    </tr>\n",
       "    <tr>\n",
       "      <th>4</th>\n",
       "      <td>Bingel F., A. C. Gücü, E. Eker, A. E. Kıdeyş, ...</td>\n",
       "    </tr>\n",
       "    <tr>\n",
       "      <th>...</th>\n",
       "      <td>...</td>\n",
       "    </tr>\n",
       "    <tr>\n",
       "      <th>56</th>\n",
       "      <td>Kideys A.E., K. Gökdağ, O. Güven, B. Jovanovic...</td>\n",
       "    </tr>\n",
       "    <tr>\n",
       "      <th>57</th>\n",
       "      <td>Kideys A.E., Y. Ak-Örek, M. Yılmaz, K. Özhan, ...</td>\n",
       "    </tr>\n",
       "    <tr>\n",
       "      <th>58</th>\n",
       "      <td>Kideys 2018. Mikroplastik1. 2015-2018 Estimati...</td>\n",
       "    </tr>\n",
       "    <tr>\n",
       "      <th>59</th>\n",
       "      <td>Kideys 2018. Mikroplastik2. 2016-2018 Impacts ...</td>\n",
       "    </tr>\n",
       "    <tr>\n",
       "      <th>60</th>\n",
       "      <td>Veiga, J., Aydin, M. Koren, S., Kideys, A., Tr...</td>\n",
       "    </tr>\n",
       "  </tbody>\n",
       "</table>\n",
       "<p>61 rows × 1 columns</p>\n",
       "</div>"
      ],
      "text/plain": [
       "                                               Report\n",
       "0   Niermann U. & A. E. Kıdeyş (editörler) 1995. A...\n",
       "1   Bingel F., A. C. Gücü, A. Stepnowski, U. Nierm...\n",
       "2   Ünlüata Ü., Ş. Beşiktepe, M. A. Latif, S. Tuğr...\n",
       "3   Bingel F., A. C. Gücü, E. Eker, A. E. Kıdeyş, ...\n",
       "4   Bingel F., A. C. Gücü, E. Eker, A. E. Kıdeyş, ...\n",
       "..                                                ...\n",
       "56  Kideys A.E., K. Gökdağ, O. Güven, B. Jovanovic...\n",
       "57  Kideys A.E., Y. Ak-Örek, M. Yılmaz, K. Özhan, ...\n",
       "58  Kideys 2018. Mikroplastik1. 2015-2018 Estimati...\n",
       "59  Kideys 2018. Mikroplastik2. 2016-2018 Impacts ...\n",
       "60  Veiga, J., Aydin, M. Koren, S., Kideys, A., Tr...\n",
       "\n",
       "[61 rows x 1 columns]"
      ]
     },
     "execution_count": 2,
     "metadata": {},
     "output_type": "execute_result"
    }
   ],
   "source": [
    "sheetname = input('Which sheetname: ')#create error message if wrong sheetname or no sheetname!\n",
    "#ask for column name too !\n",
    "#this sheetname that i read doesntave a column name so the names=['Report'] creates one !\n",
    "#what if the column was named already\n",
    "df = pd.read_excel(\"PublicationsExcel2021b.xlsx\",sheet_name=sheetname,names=['Report'])\n",
    "df"
   ]
  },
  {
   "cell_type": "code",
   "execution_count": 5,
   "metadata": {},
   "outputs": [],
   "source": [
    "year_list = []\n",
    "for i in range(len(df)):\n",
    "    num4_row = []\n",
    "    sent = df['Report'][i]\n",
    "    for x in range(len(sent)-4):\n",
    "        word = sent[x] + sent[x+1] + sent[x+2] + sent[x+3] \n",
    "        if word.isdigit() and word[0:2] in (\"19\",\"20\"):          #if word.isdigit() and not(word[x+4].isdigit()) and word[0:2] in (\"19\",\"20\"): #the extra and is saying if the 5th adjacent element is not number then this 4 digit number is good.however doesnt count for the case 11923.\n",
    "            num4_row.append(word)\n",
    "    \n",
    "    last4digits = sent[len(sent)-4]+sent[len(sent)-3]+sent[len(sent)-2]+sent[len(sent)-1]  #computes the last4digits because the above for - if code doesnt include this case\n",
    "    if last4digits.isdigit() and last4digits[0:2] in (\"19\",\"20\"): \n",
    "        num4_row.append(last4digits)\n",
    "        \n",
    "    if num4_row:\n",
    "        year_list.append(num4_row[0])#assumes the first 4digit number that starts with 19 or 20 is the year of publication \n",
    "    else:\n",
    "        year_list.append('unknown')\n",
    "        \n",
    "df['Year'] = year_list\n",
    "\n",
    "    "
   ]
  },
  {
   "cell_type": "code",
   "execution_count": 73,
   "metadata": {
    "scrolled": false
   },
   "outputs": [],
   "source": [
    "#Old Code,above implemented the new algorithm\n",
    "\"\"\" \n",
    "listcolumn = []\n",
    "for x in range(len(df1)):\n",
    "    sentence = df1[\"Report\"][x]\n",
    "    #list_words = sentence.replace(\".\",\" \").strip().split() #dont need this line anymore due to using import re\n",
    "    list_words = re.split(r'[;...\"''b\"(-),?.\\s(!)]\\s*', sentence)\n",
    "    list_ints = [i for i in list_words if i.isdigit()]\n",
    "    list_4digits = [y for y in list_ints if len(y)==4]\n",
    "    if list_4digits:\n",
    "        listcolumn.append(list_4digits[0])a\n",
    "    else:\n",
    "        listcolumn.append('unknown')\n",
    "df1['Year'] = listcolumn\n",
    "\"\"\""
   ]
  },
  {
   "cell_type": "code",
   "execution_count": 6,
   "metadata": {},
   "outputs": [
    {
     "name": "stdout",
     "output_type": "stream",
     "text": [
      "all good\n"
     ]
    }
   ],
   "source": [
    "#to check if we have a 4 digit number in every single row of our year column\n",
    "check = 1\n",
    "for y in range(len(df)):\n",
    "    if len(str(df.iloc[y]['Year'])) != 4 :\n",
    "        check=0\n",
    "        print('at index ', y,'we have a non 4 digit number which is: ', df.iloc[y]['Year'])\n",
    "if check == 1:\n",
    "    print('all good')\n"
   ]
  },
  {
   "cell_type": "code",
   "execution_count": 7,
   "metadata": {},
   "outputs": [
    {
     "data": {
      "text/plain": [
       "'TUBITAK 11923TOZ ara raporları…2004'"
      ]
     },
     "execution_count": 7,
     "metadata": {},
     "output_type": "execute_result"
    }
   ],
   "source": [
    "df.iloc[37]['Report']"
   ]
  },
  {
   "cell_type": "code",
   "execution_count": 69,
   "metadata": {},
   "outputs": [
    {
     "name": "stdout",
     "output_type": "stream",
     "text": [
      "DataFrame is written successfully to Excel File.\n"
     ]
    }
   ],
   "source": [
    "\"\"\" \n",
    "# create excel writer object\n",
    "writer = pd.ExcelWriter('Reports_PublicationsExcel2021b.xlsx')\n",
    "# write dataframe to excel\n",
    "df1.to_excel(writer)\n",
    "# save the excel\n",
    "writer.save()\n",
    "print('DataFrame is written successfully to Excel File.')\n",
    "\"\"\""
   ]
  },
  {
   "cell_type": "code",
   "execution_count": 8,
   "metadata": {},
   "outputs": [
    {
     "name": "stderr",
     "output_type": "stream",
     "text": [
      "/opt/anaconda3/lib/python3.8/site-packages/openpyxl/worksheet/_reader.py:300: UserWarning: Unknown extension is not supported and will be removed\n",
      "  warn(msg)\n"
     ]
    },
    {
     "name": "stdout",
     "output_type": "stream",
     "text": [
      "give sheetname you want to create: year2\n",
      "DataFrame is written successfully to Excel File.\n"
     ]
    }
   ],
   "source": [
    "with pd.ExcelWriter(\"PublicationsExcel2021b.xlsx\", mode=\"a\", engine=\"openpyxl\") as writer:\n",
    "    sheetname2 = input('give sheetname you want to create: ')\n",
    "    df.to_excel(writer, sheet_name=sheetname2)\n",
    "print('DataFrame is written successfully to Excel File.')"
   ]
  },
  {
   "cell_type": "code",
   "execution_count": null,
   "metadata": {},
   "outputs": [],
   "source": []
  }
 ],
 "metadata": {
  "kernelspec": {
   "display_name": "Python 3",
   "language": "python",
   "name": "python3"
  },
  "language_info": {
   "codemirror_mode": {
    "name": "ipython",
    "version": 3
   },
   "file_extension": ".py",
   "mimetype": "text/x-python",
   "name": "python",
   "nbconvert_exporter": "python",
   "pygments_lexer": "ipython3",
   "version": "3.8.5"
  }
 },
 "nbformat": 4,
 "nbformat_minor": 4
}
